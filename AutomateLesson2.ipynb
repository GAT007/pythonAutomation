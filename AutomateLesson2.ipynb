{
 "cells": [
  {
   "metadata": {},
   "cell_type": "code",
   "outputs": [],
   "execution_count": null,
   "source": [
    "from selenium import webdriver\n",
    "from selenium.webdriver.chrome.service import Service\n",
    "from selenium.webdriver.chrome.options import Options\n",
    "from webdriver_manager.chrome import ChromeDriverManager\n",
    "from datetime import datetime\n",
    "import sys\n",
    "import os\n",
    "import pandas as pd"
   ],
   "id": "6f0d340b7432ad87"
  },
  {
   "metadata": {},
   "cell_type": "code",
   "outputs": [],
   "execution_count": null,
   "source": [
    "application_path = os.path.dirname(sys.executable)\n",
    "date_time = datetime.now()\n",
    "#Sep 08, 2013\n",
    "#%b %d %Y\n",
    "fdate = date_time.strftime('%b %d, %Y')\n",
    "fdate"
   ],
   "id": "be4759132a46c642"
  },
  {
   "metadata": {},
   "cell_type": "code",
   "outputs": [],
   "execution_count": null,
   "source": [
    "website = \"https://www.thesun.co.uk/money/\"\n",
    "path = \"/home/amith/Codebase/freecodecampBasics/Automation/chromedriver\"\n",
    "#headless-mode\n",
    "options = Options()\n",
    "options.headless = True\n",
    "service=Service(executable_path=path)\n",
    "driver=webdriver.Chrome(service=service, options = options)\n",
    "driver.get(website)\n",
    "# //div[@class=\"teaser__copy-container\"]\n",
    "containers = driver.find_elements(by=\"xpath\", value='//div[@class=\"teaser__copy-container\"]')"
   ],
   "id": "ea8d8be05bdab13f"
  },
  {
   "metadata": {},
   "cell_type": "code",
   "outputs": [],
   "execution_count": null,
   "source": [
    "news = {}\n",
    "titles = []\n",
    "subtitles = []\n",
    "links = []\n",
    "for container in containers:\n",
    "    title = container.find_element(by='xpath', value='./a/span').text\n",
    "    titles.append(title)\n",
    "    subtitle = container.find_element(by='xpath', value='./a/h3').text\n",
    "    subtitles.append(subtitle)\n",
    "    news[title] = subtitle\n",
    "    link = container.find_element(by='xpath', value='./a').get_attribute('href')\n",
    "    links.append(link)\n",
    "    "
   ],
   "id": "4ef02715bcf9604c"
  },
  {
   "metadata": {},
   "cell_type": "code",
   "outputs": [],
   "execution_count": null,
   "source": [
    "pd_dict = {'title': titles, 'subtitle': subtitles, 'link': links}\n",
    "file_name = f'News-{fdate}.csv'\n",
    "full_file_name = os.path.join(application_path, file_name)\n",
    "pd.DataFrame(pd_dict).to_csv(file_name)\n",
    "driver.quit()"
   ],
   "id": "a329e0d82f91a148"
  }
 ],
 "metadata": {
  "kernelspec": {
   "display_name": "Python 3",
   "language": "python",
   "name": "python3"
  },
  "language_info": {
   "codemirror_mode": {
    "name": "ipython",
    "version": 2
   },
   "file_extension": ".py",
   "mimetype": "text/x-python",
   "name": "python",
   "nbconvert_exporter": "python",
   "pygments_lexer": "ipython2",
   "version": "2.7.6"
  }
 },
 "nbformat": 4,
 "nbformat_minor": 5
}
