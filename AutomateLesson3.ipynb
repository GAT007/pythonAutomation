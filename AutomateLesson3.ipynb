{
 "cells": [
  {
   "metadata": {},
   "cell_type": "code",
   "outputs": [],
   "execution_count": null,
   "source": [
    "import pandas as pd\n",
    "from openpyxl import load_workbook\n",
    "from openpyxl.chart import BarChart, Reference\n",
    "from openpyxl.utils import get_column_letter"
   ],
   "id": "a467597dc43125b5"
  },
  {
   "metadata": {},
   "cell_type": "code",
   "outputs": [],
   "execution_count": null,
   "source": "supermarket_df = pd.read_excel('supermarket_sales.xlsx')",
   "id": "a23e9c4be3c7bcbc"
  },
  {
   "metadata": {},
   "cell_type": "code",
   "outputs": [],
   "execution_count": null,
   "source": [
    "supermarket_df = supermarket_df[['Gender','Product line', 'Total']]\n",
    "pvt_tbl = supermarket_df.pivot_table(index='Gender', columns='Product line', values='Total', aggfunc='sum')\n",
    "pvt_tbl.to_excel('pivot_table.xlsx')\n",
    "wb = load_workbook('pivot_table.xlsx')\n",
    "sheet = wb['Sheet1']"
   ],
   "id": "b38bfa449ee4e8f"
  },
  {
   "metadata": {},
   "cell_type": "code",
   "outputs": [],
   "execution_count": null,
   "source": [
    "min_column = wb.active.min_column\n",
    "max_column = wb.active.max_column\n",
    "min_row = wb.active.min_row\n",
    "max_row = wb.active.max_row\n",
    "#print(min_column, max_column, min_row, max_row)"
   ],
   "id": "400942ba8d9906ab"
  },
  {
   "metadata": {},
   "cell_type": "code",
   "outputs": [],
   "execution_count": null,
   "source": [
    "barchart = BarChart()\n",
    "categories = Reference(sheet, min_col=min_column, max_col=min_column, min_row=min_row+1, max_row=max_row)\n",
    "data = Reference(sheet, min_col=min_column+1, max_col=max_column, min_row=min_row, max_row=max_row)\n",
    "barchart.add_data(data, titles_from_data=True)\n",
    "sheet.add_chart(barchart, \"B12\")\n",
    "barchart.title = \"Sales by Product Line\"\n",
    "barchart.style = 5\n",
    "barchart.set_categories(categories)\n",
    "wb.save('pivot_bar.xlsx')"
   ],
   "id": "f5b5c89d471eb429"
  }
 ],
 "metadata": {
  "kernelspec": {
   "display_name": "Python 3",
   "language": "python",
   "name": "python3"
  },
  "language_info": {
   "codemirror_mode": {
    "name": "ipython",
    "version": 2
   },
   "file_extension": ".py",
   "mimetype": "text/x-python",
   "name": "python",
   "nbconvert_exporter": "python",
   "pygments_lexer": "ipython2",
   "version": "2.7.6"
  }
 },
 "nbformat": 4,
 "nbformat_minor": 5
}
