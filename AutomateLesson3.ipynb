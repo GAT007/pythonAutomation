{
 "cells": [
  {
   "metadata": {},
   "cell_type": "code",
   "outputs": [],
   "execution_count": null,
   "source": [
    "import pandas as pd\n",
    "from openpyxl import load_workbook\n",
    "from openpyxl.chart import BarChart, Reference\n",
    "from openpyxl.utils import get_column_letter"
   ],
   "id": "a467597dc43125b5"
  },
  {
   "metadata": {},
   "cell_type": "code",
   "outputs": [],
   "execution_count": null,
   "source": "supermarket_df = pd.read_excel('supermarket_sales.xlsx')",
   "id": "a23e9c4be3c7bcbc"
  },
  {
   "metadata": {},
   "cell_type": "code",
   "outputs": [],
   "execution_count": null,
   "source": [
    "supermarket_df = supermarket_df[['Gender','Product line', 'Total']]\n",
    "pvt_tbl = supermarket_df.pivot_table(index='Gender', columns='Product line', values='Total', aggfunc='sum')\n",
    "pvt_tbl.to_excel('pivot_table.xlsx')\n",
    "wb = load_workbook('pivot_table.xlsx')\n",
    "sheet = wb['Sheet1']\n"
   ],
   "id": "b38bfa449ee4e8f"
  }
 ],
 "metadata": {
  "kernelspec": {
   "display_name": "Python 3",
   "language": "python",
   "name": "python3"
  },
  "language_info": {
   "codemirror_mode": {
    "name": "ipython",
    "version": 2
   },
   "file_extension": ".py",
   "mimetype": "text/x-python",
   "name": "python",
   "nbconvert_exporter": "python",
   "pygments_lexer": "ipython2",
   "version": "2.7.6"
  }
 },
 "nbformat": 4,
 "nbformat_minor": 5
}
