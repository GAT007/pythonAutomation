{
 "cells": [
  {
   "cell_type": "code",
   "execution_count": null,
   "id": "initial_id",
   "metadata": {
    "collapsed": true
   },
   "outputs": [],
   "source": [
    "import pandas as pd\n",
    "simpsons = pd.read_html('https://en.wikipedia.org/wiki/List_of_The_Simpsons_episodes_(seasons_1%E2%80%9320)')\n",
    "len(simpsons)"
   ]
  },
  {
   "metadata": {},
   "cell_type": "code",
   "outputs": [],
   "execution_count": null,
   "source": [
    "##Reading 1 csv file from the website\n",
    "#Target website : https://football-data.co.uk/englandm.php\n",
    "premierLeague = pd.read_csv(\"https://football-data.co.uk/mmz4281/2324/E0.csv\")"
   ],
   "id": "b94be87809e5f0e9"
  },
  {
   "metadata": {},
   "cell_type": "code",
   "outputs": [],
   "execution_count": null,
   "source": [
    "len(premierLeague)\n",
    "premierLeague.rename(columns ={'FTHG':'Final Time Home Goals','FTAG':'Final Time Away Goals'}, inplace=True)\n",
    "import camelot\n",
    "tables = camelot.read_pdf('/home/amith/Documents/foo.pdf', pages='1')\n",
    "tables.export('foo.csv', f='csv', compress=True)\n",
    "tables[0].to_csv('foo.csv')"
   ],
   "id": "1cdbc1146cee6951"
  }
 ],
 "metadata": {
  "kernelspec": {
   "display_name": "Python 3",
   "language": "python",
   "name": "python3"
  },
  "language_info": {
   "codemirror_mode": {
    "name": "ipython",
    "version": 2
   },
   "file_extension": ".py",
   "mimetype": "text/x-python",
   "name": "python",
   "nbconvert_exporter": "python",
   "pygments_lexer": "ipython2",
   "version": "2.7.6"
  }
 },
 "nbformat": 4,
 "nbformat_minor": 5
}
